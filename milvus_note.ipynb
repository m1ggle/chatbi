{
 "cells": [
  {
   "cell_type": "code",
   "execution_count": 1,
   "id": "initial_id",
   "metadata": {
    "ExecuteTime": {
     "end_time": "2025-03-18T02:35:56.198441Z",
     "start_time": "2025-03-18T02:35:53.885063Z"
    },
    "collapsed": true,
    "jupyter": {
     "outputs_hidden": true
    }
   },
   "outputs": [
    {
     "name": "stdout",
     "output_type": "stream",
     "text": [
      "Looking in indexes: https://repo.huaweicloud.com/repository/pypi/simple\n",
      "Requirement already satisfied: pymilvus in /Users/yahve/miniconda3/envs/langchain_chatbi/lib/python3.11/site-packages (2.5.5)\n",
      "Requirement already satisfied: setuptools>69 in /Users/yahve/miniconda3/envs/langchain_chatbi/lib/python3.11/site-packages (from pymilvus) (75.8.0)\n",
      "Requirement already satisfied: grpcio<=1.67.1,>=1.49.1 in /Users/yahve/miniconda3/envs/langchain_chatbi/lib/python3.11/site-packages (from pymilvus) (1.67.1)\n",
      "Requirement already satisfied: protobuf>=3.20.0 in /Users/yahve/miniconda3/envs/langchain_chatbi/lib/python3.11/site-packages (from pymilvus) (6.30.1)\n",
      "Requirement already satisfied: python-dotenv<2.0.0,>=1.0.1 in /Users/yahve/miniconda3/envs/langchain_chatbi/lib/python3.11/site-packages (from pymilvus) (1.0.1)\n",
      "Requirement already satisfied: ujson>=2.0.0 in /Users/yahve/miniconda3/envs/langchain_chatbi/lib/python3.11/site-packages (from pymilvus) (5.10.0)\n",
      "Requirement already satisfied: pandas>=1.2.4 in /Users/yahve/miniconda3/envs/langchain_chatbi/lib/python3.11/site-packages (from pymilvus) (2.2.3)\n",
      "Requirement already satisfied: milvus-lite>=2.4.0 in /Users/yahve/miniconda3/envs/langchain_chatbi/lib/python3.11/site-packages (from pymilvus) (2.4.11)\n",
      "Requirement already satisfied: tqdm in /Users/yahve/miniconda3/envs/langchain_chatbi/lib/python3.11/site-packages (from milvus-lite>=2.4.0->pymilvus) (4.67.1)\n",
      "Requirement already satisfied: numpy>=1.23.2 in /Users/yahve/miniconda3/envs/langchain_chatbi/lib/python3.11/site-packages (from pandas>=1.2.4->pymilvus) (2.2.3)\n",
      "Requirement already satisfied: python-dateutil>=2.8.2 in /Users/yahve/miniconda3/envs/langchain_chatbi/lib/python3.11/site-packages (from pandas>=1.2.4->pymilvus) (2.9.0.post0)\n",
      "Requirement already satisfied: pytz>=2020.1 in /Users/yahve/miniconda3/envs/langchain_chatbi/lib/python3.11/site-packages (from pandas>=1.2.4->pymilvus) (2025.1)\n",
      "Requirement already satisfied: tzdata>=2022.7 in /Users/yahve/miniconda3/envs/langchain_chatbi/lib/python3.11/site-packages (from pandas>=1.2.4->pymilvus) (2025.1)\n",
      "Requirement already satisfied: six>=1.5 in /Users/yahve/miniconda3/envs/langchain_chatbi/lib/python3.11/site-packages (from python-dateutil>=2.8.2->pandas>=1.2.4->pymilvus) (1.16.0)\n"
     ]
    }
   ],
   "source": [
    "!pip install -U pymilvus"
   ]
  },
  {
   "cell_type": "code",
   "execution_count": 1,
   "id": "c122d9ff4ba1a1",
   "metadata": {},
   "outputs": [],
   "source": [
    "from pymilvus import MilvusClient\n",
    "\n",
    "client = MilvusClient(\"milvus_demo.db\")"
   ]
  },
  {
   "cell_type": "code",
   "execution_count": 2,
   "id": "a7c4b28a-13a5-4134-8f8c-63bbb5445211",
   "metadata": {},
   "outputs": [],
   "source": [
    "if client.has_collection(collection_name=\"demo_collection\"):\n",
    "    client.drop_collection(collection_name=\"demo_collection\")\n",
    "client.create_collection(\n",
    "    collection_name=\"demo_collection\",\n",
    "    dimension=768,  # The vectors we will use in this demo has 768 dimensions\n",
    ")"
   ]
  },
  {
   "cell_type": "code",
   "execution_count": 3,
   "id": "8b61945e-43d6-423e-81fa-f30e920e8a31",
   "metadata": {},
   "outputs": [
    {
     "data": {
      "text/plain": [
       "['demo_collection']"
      ]
     },
     "execution_count": 3,
     "metadata": {},
     "output_type": "execute_result"
    }
   ],
   "source": [
    "client.list_collections()"
   ]
  },
  {
   "cell_type": "code",
   "execution_count": 7,
   "id": "6b3e7610-3dd8-4334-8015-1ab3ddbc96c8",
   "metadata": {},
   "outputs": [
    {
     "name": "stdout",
     "output_type": "stream",
     "text": [
      "Looking in indexes: https://repo.huaweicloud.com/repository/pypi/simple\n",
      "Requirement already satisfied: pymilvus[model] in /Users/yahve/miniconda3/envs/langchain_chatbi/lib/python3.11/site-packages (2.5.5)\n",
      "Requirement already satisfied: setuptools>69 in /Users/yahve/miniconda3/envs/langchain_chatbi/lib/python3.11/site-packages (from pymilvus[model]) (75.8.0)\n",
      "Requirement already satisfied: grpcio<=1.67.1,>=1.49.1 in /Users/yahve/miniconda3/envs/langchain_chatbi/lib/python3.11/site-packages (from pymilvus[model]) (1.67.1)\n",
      "Requirement already satisfied: protobuf>=3.20.0 in /Users/yahve/miniconda3/envs/langchain_chatbi/lib/python3.11/site-packages (from pymilvus[model]) (6.30.1)\n",
      "Requirement already satisfied: python-dotenv<2.0.0,>=1.0.1 in /Users/yahve/miniconda3/envs/langchain_chatbi/lib/python3.11/site-packages (from pymilvus[model]) (1.0.1)\n",
      "Requirement already satisfied: ujson>=2.0.0 in /Users/yahve/miniconda3/envs/langchain_chatbi/lib/python3.11/site-packages (from pymilvus[model]) (5.10.0)\n",
      "Requirement already satisfied: pandas>=1.2.4 in /Users/yahve/miniconda3/envs/langchain_chatbi/lib/python3.11/site-packages (from pymilvus[model]) (2.2.3)\n",
      "Requirement already satisfied: milvus-lite>=2.4.0 in /Users/yahve/miniconda3/envs/langchain_chatbi/lib/python3.11/site-packages (from pymilvus[model]) (2.4.11)\n",
      "Collecting pymilvus.model>=0.3.0 (from pymilvus[model])\n",
      "  Downloading https://repo.huaweicloud.com/repository/pypi/packages/f1/86/c136aca355fbce25595d2b055443747a9b8b63f63928c7daa94dc840dc9f/pymilvus_model-0.3.1-py3-none-any.whl (46 kB)\n",
      "Requirement already satisfied: tqdm in /Users/yahve/miniconda3/envs/langchain_chatbi/lib/python3.11/site-packages (from milvus-lite>=2.4.0->pymilvus[model]) (4.67.1)\n",
      "Requirement already satisfied: numpy>=1.23.2 in /Users/yahve/miniconda3/envs/langchain_chatbi/lib/python3.11/site-packages (from pandas>=1.2.4->pymilvus[model]) (2.2.3)\n",
      "Requirement already satisfied: python-dateutil>=2.8.2 in /Users/yahve/miniconda3/envs/langchain_chatbi/lib/python3.11/site-packages (from pandas>=1.2.4->pymilvus[model]) (2.9.0.post0)\n",
      "Requirement already satisfied: pytz>=2020.1 in /Users/yahve/miniconda3/envs/langchain_chatbi/lib/python3.11/site-packages (from pandas>=1.2.4->pymilvus[model]) (2025.1)\n",
      "Requirement already satisfied: tzdata>=2022.7 in /Users/yahve/miniconda3/envs/langchain_chatbi/lib/python3.11/site-packages (from pandas>=1.2.4->pymilvus[model]) (2025.1)\n",
      "Collecting transformers>=4.36.0 (from pymilvus.model>=0.3.0->pymilvus[model])\n",
      "  Downloading https://repo.huaweicloud.com/repository/pypi/packages/20/37/1f29af63e9c30156a3ed6ebc2754077016577c094f31de7b2631e5d379eb/transformers-4.49.0-py3-none-any.whl (10.0 MB)\n",
      "\u001b[2K     \u001b[90m━━━━━━━━━━━━━━━━━━━━━━━━━━━━━━━━━━━━━━━━\u001b[0m \u001b[32m10.0/10.0 MB\u001b[0m \u001b[31m1.5 MB/s\u001b[0m eta \u001b[36m0:00:00\u001b[0m \u001b[36m0:00:01\u001b[0m\n",
      "Collecting onnxruntime (from pymilvus.model>=0.3.0->pymilvus[model])\n",
      "  Downloading https://repo.huaweicloud.com/repository/pypi/packages/df/34/fd780c62b3ec9268224ada4205a5256618553b8cc26d7205d3cf8aafde47/onnxruntime-1.21.0-cp311-cp311-macosx_13_0_universal2.whl (33.6 MB)\n",
      "\u001b[2K     \u001b[90m━━━━━━━━━━━━━━━━━━━━━━━━━━━━━━━━━━━━━━━\u001b[0m \u001b[32m33.6/33.6 MB\u001b[0m \u001b[31m861.5 kB/s\u001b[0m eta \u001b[36m0:00:00\u001b[0m00:01\u001b[0m00:01\u001b[0m\n",
      "Collecting scipy>=1.10.0 (from pymilvus.model>=0.3.0->pymilvus[model])\n",
      "  Downloading https://repo.huaweicloud.com/repository/pypi/packages/40/1f/bf0a5f338bda7c35c08b4ed0df797e7bafe8a78a97275e9f439aceb46193/scipy-1.15.2-cp311-cp311-macosx_10_13_x86_64.whl (38.7 MB)\n",
      "\u001b[2K     \u001b[90m━━━━━━━━━━━━━━━━━━━━━━━━━━━━━━━━━━━━━━━\u001b[0m \u001b[32m38.7/38.7 MB\u001b[0m \u001b[31m924.9 kB/s\u001b[0m eta \u001b[36m0:00:00\u001b[0m00:01\u001b[0m00:02\u001b[0m\n",
      "Requirement already satisfied: six>=1.5 in /Users/yahve/miniconda3/envs/langchain_chatbi/lib/python3.11/site-packages (from python-dateutil>=2.8.2->pandas>=1.2.4->pymilvus[model]) (1.16.0)\n",
      "Collecting filelock (from transformers>=4.36.0->pymilvus.model>=0.3.0->pymilvus[model])\n",
      "  Downloading https://repo.huaweicloud.com/repository/pypi/packages/4d/36/2a115987e2d8c300a974597416d9de88f2444426de9571f4b59b2cca3acc/filelock-3.18.0-py3-none-any.whl (16 kB)\n",
      "Collecting huggingface-hub<1.0,>=0.26.0 (from transformers>=4.36.0->pymilvus.model>=0.3.0->pymilvus[model])\n",
      "  Downloading https://repo.huaweicloud.com/repository/pypi/packages/40/0c/37d380846a2e5c9a3c6a73d26ffbcfdcad5fc3eacf42fdf7cff56f2af634/huggingface_hub-0.29.3-py3-none-any.whl (468 kB)\n",
      "Requirement already satisfied: packaging>=20.0 in /Users/yahve/miniconda3/envs/langchain_chatbi/lib/python3.11/site-packages (from transformers>=4.36.0->pymilvus.model>=0.3.0->pymilvus[model]) (24.2)\n",
      "Requirement already satisfied: pyyaml>=5.1 in /Users/yahve/miniconda3/envs/langchain_chatbi/lib/python3.11/site-packages (from transformers>=4.36.0->pymilvus.model>=0.3.0->pymilvus[model]) (6.0.2)\n",
      "Requirement already satisfied: regex!=2019.12.17 in /Users/yahve/miniconda3/envs/langchain_chatbi/lib/python3.11/site-packages (from transformers>=4.36.0->pymilvus.model>=0.3.0->pymilvus[model]) (2024.11.6)\n",
      "Requirement already satisfied: requests in /Users/yahve/miniconda3/envs/langchain_chatbi/lib/python3.11/site-packages (from transformers>=4.36.0->pymilvus.model>=0.3.0->pymilvus[model]) (2.32.3)\n",
      "Collecting tokenizers<0.22,>=0.21 (from transformers>=4.36.0->pymilvus.model>=0.3.0->pymilvus[model])\n",
      "  Downloading https://repo.huaweicloud.com/repository/pypi/packages/a5/1f/328aee25f9115bf04262e8b4e5a2050b7b7cf44b59c74e982db7270c7f30/tokenizers-0.21.1-cp39-abi3-macosx_10_12_x86_64.whl (2.8 MB)\n",
      "\u001b[2K     \u001b[90m━━━━━━━━━━━━━━━━━━━━━━━━━━━━━━━━━━━━━━━━\u001b[0m \u001b[32m2.8/2.8 MB\u001b[0m \u001b[31m728.4 kB/s\u001b[0m eta \u001b[36m0:00:00\u001b[0ma \u001b[36m0:00:01\u001b[0m\n",
      "Collecting safetensors>=0.4.1 (from transformers>=4.36.0->pymilvus.model>=0.3.0->pymilvus[model])\n",
      "  Downloading https://repo.huaweicloud.com/repository/pypi/packages/18/ae/88f6c49dbd0cc4da0e08610019a3c78a7d390879a919411a410a1876d03a/safetensors-0.5.3-cp38-abi3-macosx_10_12_x86_64.whl (436 kB)\n",
      "Collecting coloredlogs (from onnxruntime->pymilvus.model>=0.3.0->pymilvus[model])\n",
      "  Downloading https://repo.huaweicloud.com/repository/pypi/packages/a7/06/3d6badcf13db419e25b07041d9c7b4a2c331d3f4e7134445ec5df57714cd/coloredlogs-15.0.1-py2.py3-none-any.whl (46 kB)\n",
      "Collecting flatbuffers (from onnxruntime->pymilvus.model>=0.3.0->pymilvus[model])\n",
      "  Downloading https://repo.huaweicloud.com/repository/pypi/packages/b8/25/155f9f080d5e4bc0082edfda032ea2bc2b8fab3f4d25d46c1e9dd22a1a89/flatbuffers-25.2.10-py2.py3-none-any.whl (30 kB)\n",
      "Collecting sympy (from onnxruntime->pymilvus.model>=0.3.0->pymilvus[model])\n",
      "  Downloading https://repo.huaweicloud.com/repository/pypi/packages/99/ff/c87e0622b1dadea79d2fb0b25ade9ed98954c9033722eb707053d310d4f3/sympy-1.13.3-py3-none-any.whl (6.2 MB)\n",
      "\u001b[2K     \u001b[90m━━━━━━━━━━━━━━━━━━━━━━━━━━━━━━━━━━━━━━━━\u001b[0m \u001b[32m6.2/6.2 MB\u001b[0m \u001b[31m1.3 MB/s\u001b[0m eta \u001b[36m0:00:00\u001b[0ma \u001b[36m0:00:02\u001b[0m0m\n",
      "Collecting fsspec>=2023.5.0 (from huggingface-hub<1.0,>=0.26.0->transformers>=4.36.0->pymilvus.model>=0.3.0->pymilvus[model])\n",
      "  Downloading https://repo.huaweicloud.com/repository/pypi/packages/56/53/eb690efa8513166adef3e0669afd31e95ffde69fb3c52ec2ac7223ed6018/fsspec-2025.3.0-py3-none-any.whl (193 kB)\n",
      "Requirement already satisfied: typing-extensions>=3.7.4.3 in /Users/yahve/miniconda3/envs/langchain_chatbi/lib/python3.11/site-packages (from huggingface-hub<1.0,>=0.26.0->transformers>=4.36.0->pymilvus.model>=0.3.0->pymilvus[model]) (4.12.2)\n",
      "Collecting humanfriendly>=9.1 (from coloredlogs->onnxruntime->pymilvus.model>=0.3.0->pymilvus[model])\n",
      "  Downloading https://repo.huaweicloud.com/repository/pypi/packages/f0/0f/310fb31e39e2d734ccaa2c0fb981ee41f7bd5056ce9bc29b2248bd569169/humanfriendly-10.0-py2.py3-none-any.whl (86 kB)\n",
      "Requirement already satisfied: charset-normalizer<4,>=2 in /Users/yahve/miniconda3/envs/langchain_chatbi/lib/python3.11/site-packages (from requests->transformers>=4.36.0->pymilvus.model>=0.3.0->pymilvus[model]) (3.4.1)\n",
      "Requirement already satisfied: idna<4,>=2.5 in /Users/yahve/miniconda3/envs/langchain_chatbi/lib/python3.11/site-packages (from requests->transformers>=4.36.0->pymilvus.model>=0.3.0->pymilvus[model]) (3.10)\n",
      "Requirement already satisfied: urllib3<3,>=1.21.1 in /Users/yahve/miniconda3/envs/langchain_chatbi/lib/python3.11/site-packages (from requests->transformers>=4.36.0->pymilvus.model>=0.3.0->pymilvus[model]) (2.3.0)\n",
      "Requirement already satisfied: certifi>=2017.4.17 in /Users/yahve/miniconda3/envs/langchain_chatbi/lib/python3.11/site-packages (from requests->transformers>=4.36.0->pymilvus.model>=0.3.0->pymilvus[model]) (2025.1.31)\n",
      "Collecting mpmath<1.4,>=1.1.0 (from sympy->onnxruntime->pymilvus.model>=0.3.0->pymilvus[model])\n",
      "  Downloading https://repo.huaweicloud.com/repository/pypi/packages/43/e3/7d92a15f894aa0c9c4b49b8ee9ac9850d6e63b03c9c32c0367a13ae62209/mpmath-1.3.0-py3-none-any.whl (536 kB)\n",
      "\u001b[2K     \u001b[90m━━━━━━━━━━━━━━━━━━━━━━━━━━━━━━━━━━━━━━━\u001b[0m \u001b[32m536.2/536.2 kB\u001b[0m \u001b[31m6.0 MB/s\u001b[0m eta \u001b[36m0:00:00\u001b[0m\n",
      "Installing collected packages: mpmath, flatbuffers, sympy, scipy, safetensors, humanfriendly, fsspec, filelock, huggingface-hub, coloredlogs, tokenizers, onnxruntime, transformers, pymilvus.model\n",
      "Successfully installed coloredlogs-15.0.1 filelock-3.18.0 flatbuffers-25.2.10 fsspec-2025.3.0 huggingface-hub-0.29.3 humanfriendly-10.0 mpmath-1.3.0 onnxruntime-1.21.0 pymilvus.model-0.3.1 safetensors-0.5.3 scipy-1.15.2 sympy-1.13.3 tokenizers-0.21.1 transformers-4.49.0\n"
     ]
    }
   ],
   "source": [
    "!pip install \"pymilvus[model]\""
   ]
  },
  {
   "cell_type": "code",
   "execution_count": 8,
   "id": "a1d8c8a7-8a18-44cd-b9ee-940136ea0adc",
   "metadata": {},
   "outputs": [
    {
     "name": "stderr",
     "output_type": "stream",
     "text": [
      "None of PyTorch, TensorFlow >= 2.0, or Flax have been found. Models won't be available and only tokenizers, configuration and file/data utilities can be used.\n"
     ]
    },
    {
     "data": {
      "application/vnd.jupyter.widget-view+json": {
       "model_id": "9b4526c87bfa4d5dbfe71ec08d958167",
       "version_major": 2,
       "version_minor": 0
      },
      "text/plain": [
       "tokenizer_config.json:   0%|          | 0.00/465 [00:00<?, ?B/s]"
      ]
     },
     "metadata": {},
     "output_type": "display_data"
    },
    {
     "data": {
      "application/vnd.jupyter.widget-view+json": {
       "model_id": "28b96642675d498790c42e0dcdfafc66",
       "version_major": 2,
       "version_minor": 0
      },
      "text/plain": [
       "config.json:   0%|          | 0.00/435 [00:00<?, ?B/s]"
      ]
     },
     "metadata": {},
     "output_type": "display_data"
    },
    {
     "data": {
      "application/vnd.jupyter.widget-view+json": {
       "model_id": "81a13dbe86c844f1a082e448f6ec4ac6",
       "version_major": 2,
       "version_minor": 0
      },
      "text/plain": [
       "spiece.model:   0%|          | 0.00/760k [00:00<?, ?B/s]"
      ]
     },
     "metadata": {},
     "output_type": "display_data"
    },
    {
     "data": {
      "application/vnd.jupyter.widget-view+json": {
       "model_id": "e32b35989a1f481faf1fb6d32b4b6b85",
       "version_major": 2,
       "version_minor": 0
      },
      "text/plain": [
       "tokenizer.json: 0.00B [00:00, ?B/s]"
      ]
     },
     "metadata": {},
     "output_type": "display_data"
    },
    {
     "data": {
      "application/vnd.jupyter.widget-view+json": {
       "model_id": "b55a8871ff3b43a5894f5b313b6af830",
       "version_major": 2,
       "version_minor": 0
      },
      "text/plain": [
       "special_tokens_map.json:   0%|          | 0.00/245 [00:00<?, ?B/s]"
      ]
     },
     "metadata": {},
     "output_type": "display_data"
    },
    {
     "data": {
      "application/vnd.jupyter.widget-view+json": {
       "model_id": "8b4fce640bad449ab841217e6a88a9fc",
       "version_major": 2,
       "version_minor": 0
      },
      "text/plain": [
       "model.onnx:   0%|          | 0.00/46.9M [00:00<?, ?B/s]"
      ]
     },
     "metadata": {},
     "output_type": "display_data"
    }
   ],
   "source": [
    "import os\n",
    "from pymilvus import model\n",
    "os.environ['HF_ENDPOINT'] = 'https://hf-mirror.com'\n",
    "\n",
    "# This will download a small embedding model \"paraphrase-albert-small-v2\" (~50MB).\n",
    "embedding_fn = model.DefaultEmbeddingFunction()"
   ]
  },
  {
   "cell_type": "code",
   "execution_count": 9,
   "id": "0a2c2f1e-fc2e-48cd-b634-4f83e3e486d3",
   "metadata": {},
   "outputs": [
    {
     "name": "stdout",
     "output_type": "stream",
     "text": [
      "Dim: 768 (768,)\n",
      "Data has 3 entities, each with fields:  dict_keys(['id', 'vector', 'text', 'subject'])\n",
      "Vector dim: 768\n"
     ]
    }
   ],
   "source": [
    "# Text strings to search from.\n",
    "docs = [\n",
    "    \"Artificial intelligence was founded as an academic discipline in 1956.\",\n",
    "    \"Alan Turing was the first person to conduct substantial research in AI.\",\n",
    "    \"Born in Maida Vale, London, Turing was raised in southern England.\",\n",
    "]\n",
    "\n",
    "vectors = embedding_fn.encode_documents(docs)\n",
    "# The output vector has 768 dimensions, matching the collection that we just created.\n",
    "print(\"Dim:\", embedding_fn.dim, vectors[0].shape)  # Dim: 768 (768,)\n",
    "\n",
    "# Each entity has id, vector representation, raw text, and a subject label that we use\n",
    "# to demo metadata filtering later.\n",
    "data = [\n",
    "    {\"id\": i, \"vector\": vectors[i], \"text\": docs[i], \"subject\": \"history\"}\n",
    "    for i in range(len(vectors))\n",
    "]\n",
    "\n",
    "print(\"Data has\", len(data), \"entities, each with fields: \", data[0].keys())\n",
    "print(\"Vector dim:\", len(data[0][\"vector\"]))"
   ]
  },
  {
   "cell_type": "code",
   "execution_count": 10,
   "id": "2d49428f-a80a-4ea0-adb2-335bf30282d8",
   "metadata": {},
   "outputs": [
    {
     "name": "stdout",
     "output_type": "stream",
     "text": [
      "{'insert_count': 3, 'ids': [0, 1, 2]}\n"
     ]
    }
   ],
   "source": [
    "res = client.insert(collection_name=\"demo_collection\", data=data)\n",
    "\n",
    "print(res)"
   ]
  },
  {
   "cell_type": "code",
   "execution_count": null,
   "id": "02c6a34b-54e8-4e9c-af6e-2523b18dd541",
   "metadata": {},
   "outputs": [],
   "source": []
  }
 ],
 "metadata": {
  "kernelspec": {
   "display_name": "Python 3 (ipykernel)",
   "language": "python",
   "name": "python3"
  },
  "language_info": {
   "codemirror_mode": {
    "name": "ipython",
    "version": 3
   },
   "file_extension": ".py",
   "mimetype": "text/x-python",
   "name": "python",
   "nbconvert_exporter": "python",
   "pygments_lexer": "ipython3",
   "version": "3.11.11"
  }
 },
 "nbformat": 4,
 "nbformat_minor": 5
}
